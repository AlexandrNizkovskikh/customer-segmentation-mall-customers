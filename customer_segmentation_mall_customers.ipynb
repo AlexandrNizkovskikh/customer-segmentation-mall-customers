{
  "nbformat": 4,
  "nbformat_minor": 0,
  "metadata": {
    "colab": {
      "provenance": [],
      "toc_visible": true
    },
    "kernelspec": {
      "name": "python3",
      "display_name": "Python 3"
    },
    "language_info": {
      "name": "python"
    }
  },
  "cells": [
    {
      "cell_type": "markdown",
      "source": [
        "# Импорт библиотек"
      ],
      "metadata": {
        "id": "qxBRTpvGnLDX"
      }
    },
    {
      "cell_type": "code",
      "source": [
        "import pandas as pd\n",
        "from sklearn.cluster import KMeans\n",
        "import matplotlib.pyplot as plt\n",
        "from mpl_toolkits.mplot3d import Axes3D\n",
        "from sklearn.preprocessing import StandardScaler\n",
        "from sklearn.metrics import silhouette_samples, silhouette_score\n",
        "import numpy as np\n",
        "from scipy.stats import zscore"
      ],
      "metadata": {
        "id": "rWeVhwfaaV5i"
      },
      "execution_count": null,
      "outputs": []
    },
    {
      "cell_type": "markdown",
      "source": [
        "# Загрузка датасета"
      ],
      "metadata": {
        "id": "gwNVeXH0nODu"
      }
    },
    {
      "cell_type": "code",
      "source": [
        "!wget https://storage.yandexcloud.net/academy.ai/Mall_Customers.csv"
      ],
      "metadata": {
        "id": "DqF-s_LuQ_Il"
      },
      "execution_count": null,
      "outputs": []
    },
    {
      "cell_type": "code",
      "source": [
        "# Загрузка данных\n",
        "df = pd.read_csv('Mall_Customers.csv')"
      ],
      "metadata": {
        "id": "YnqespF5abzH"
      },
      "execution_count": null,
      "outputs": []
    },
    {
      "cell_type": "code",
      "source": [
        "print(df.head(10))"
      ],
      "metadata": {
        "id": "5GSjx4trSl7N"
      },
      "execution_count": null,
      "outputs": []
    },
    {
      "cell_type": "code",
      "source": [
        "# Выбор трёх признаков\n",
        "features = [\"Age\", \"Annual Income (k$)\", \"Spending Score (1-100)\"]\n",
        "X = df[features]"
      ],
      "metadata": {
        "id": "ShxJYxLurtEr"
      },
      "execution_count": null,
      "outputs": []
    },
    {
      "cell_type": "code",
      "source": [
        "# Стандартизация данных\n",
        "scaler = StandardScaler()\n",
        "X_scaled = scaler.fit_transform(X)"
      ],
      "metadata": {
        "id": "eripk0UYaqbu"
      },
      "execution_count": null,
      "outputs": []
    },
    {
      "cell_type": "code",
      "source": [
        "# Применение K-Means\n",
        "kmeans = KMeans(n_clusters=6, init=\"k-means++\", random_state=42)\n",
        "kmeans.fit(X_scaled)\n",
        "labels = kmeans.labels_"
      ],
      "metadata": {
        "id": "mZ4gKMAdatlw"
      },
      "execution_count": null,
      "outputs": []
    },
    {
      "cell_type": "code",
      "source": [
        "# Добавление меток кластеров в DataFrame\n",
        "df[\"Cluster\"] = labels"
      ],
      "metadata": {
        "id": "FjBoP08FdzZk"
      },
      "execution_count": null,
      "outputs": []
    },
    {
      "cell_type": "code",
      "source": [
        "import plotly.express as px\n",
        "\n",
        "# Построение интерактивного 3D-графика\n",
        "fig = px.scatter_3d(\n",
        "    df,\n",
        "    x=\"Age\",\n",
        "    y=\"Annual Income (k$)\",\n",
        "    z=\"Spending Score (1-100)\",\n",
        "    color=\"Cluster\",\n",
        "    title=\"Сегментация клиентов (Интерактивный 3D-график)\",\n",
        "    labels={\"Cluster\": \"Кластер\"},\n",
        "    opacity=1\n",
        ")\n",
        "\n",
        "# Настройки графика\n",
        "fig.update_traces(marker=dict(size=5))  # Устанавливаем размер маркеров\n",
        "fig.update_layout(\n",
        "    scene=dict(\n",
        "        xaxis_title=\"Age\",\n",
        "        yaxis_title=\"Annual Income (k$)\",\n",
        "        zaxis_title=\"Spending Score (1-100)\"\n",
        "    ),\n",
        "    margin=dict(l=0, r=0, b=0, t=50)\n",
        ")\n",
        "\n",
        "# Показ графика\n",
        "fig.show()"
      ],
      "metadata": {
        "id": "O0GPyYHidysH"
      },
      "execution_count": null,
      "outputs": []
    },
    {
      "cell_type": "markdown",
      "source": [
        "# Сравнение стабильности K-means и K-means++"
      ],
      "metadata": {
        "id": "JXOIhlN5nUpB"
      }
    },
    {
      "cell_type": "code",
      "source": [
        "# Функция для оценки стабильности\n",
        "def evaluate_kmeans(X, n_clusters=6, iterations=10):\n",
        "    results = {\"standard_kmeans\": [], \"kmeans++\": []}\n",
        "\n",
        "    for random_state in range(iterations):\n",
        "        # Стандартный K-Means (инициализация \"random\")\n",
        "        kmeans_standard = KMeans(\n",
        "            n_clusters=n_clusters, init=\"random\", n_init=\"auto\", random_state=random_state\n",
        "        )\n",
        "        kmeans_standard.fit(X)\n",
        "        inertia_standard = kmeans_standard.inertia_\n",
        "        silhouette_standard = silhouette_score(X, kmeans_standard.labels_)\n",
        "        results[\"standard_kmeans\"].append((inertia_standard, silhouette_standard))\n",
        "\n",
        "        # K-Means++ (инициализация \"k-means++\")\n",
        "        kmeans_plus = KMeans(\n",
        "            n_clusters=n_clusters, init=\"k-means++\", n_init=\"auto\", random_state=random_state\n",
        "        )\n",
        "        kmeans_plus.fit(X)\n",
        "        inertia_plus = kmeans_plus.inertia_\n",
        "        silhouette_plus = silhouette_score(X, kmeans_plus.labels_)\n",
        "        results[\"kmeans++\"].append((inertia_plus, silhouette_plus))\n",
        "\n",
        "    return results"
      ],
      "metadata": {
        "id": "5WvJlYhAfyrh"
      },
      "execution_count": null,
      "outputs": []
    },
    {
      "cell_type": "code",
      "source": [
        "# Выполнение оценок\n",
        "results = evaluate_kmeans(X_scaled, n_clusters=6, iterations=10)"
      ],
      "metadata": {
        "id": "Td0Iw8WVf0WD"
      },
      "execution_count": null,
      "outputs": []
    },
    {
      "cell_type": "code",
      "source": [
        "# Средние результаты\n",
        "standard_avg_inertia = np.mean([res[0] for res in results[\"standard_kmeans\"]])\n",
        "standard_avg_silhouette = np.mean([res[1] for res in results[\"standard_kmeans\"]])\n",
        "plus_avg_inertia = np.mean([res[0] for res in results[\"kmeans++\"]])\n",
        "plus_avg_silhouette = np.mean([res[1] for res in results[\"kmeans++\"]])"
      ],
      "metadata": {
        "id": "Sqe2cXltgFmw"
      },
      "execution_count": null,
      "outputs": []
    },
    {
      "cell_type": "code",
      "source": [
        "# Вывод результатов\n",
        "print(\"Средние значения по 10 итерациям:\")\n",
        "print(f\"Standard K-Means: Inertia = {standard_avg_inertia:.2f}, Silhouette = {standard_avg_silhouette:.2f}\")\n",
        "print(f\"K-Means++: Inertia = {plus_avg_inertia:.2f}, Silhouette = {plus_avg_silhouette:.2f}\")\n",
        "\n",
        "# Сравнение разброса значений\n",
        "standard_inertia_std = np.std([res[0] for res in results[\"standard_kmeans\"]])\n",
        "plus_inertia_std = np.std([res[0] for res in results[\"kmeans++\"]])\n",
        "print(\"\\nРазброс значений (стандартное отклонение):\")\n",
        "print(f\"Standard K-Means: Inertia std = {standard_inertia_std:.2f}\")\n",
        "print(f\"K-Means++: Inertia std = {plus_inertia_std:.2f}\")"
      ],
      "metadata": {
        "id": "C09Mqn_jgKae"
      },
      "execution_count": null,
      "outputs": []
    },
    {
      "cell_type": "markdown",
      "source": [
        "Вывод:\n",
        "\n",
        "K-Means демонстрирует низкий разброс инерции, что указывает на стабильность результата, однако низкая инерция и высокий силуэтный коэффициент могут быть связаны с попаданием в локальный минимум, а не с отражением реальной структуры данных.\n",
        "\n",
        "K-Means++ имеет более высокий разброс инерции указывает на чувствительность метода к данным, однако это подтверждает, что метод исследует пространство данных более тщательно"
      ],
      "metadata": {
        "id": "QSQje5EFntHP"
      }
    },
    {
      "cell_type": "markdown",
      "source": [
        "# Удаление выбросов"
      ],
      "metadata": {
        "id": "vyu2vmjSoEI8"
      }
    },
    {
      "cell_type": "code",
      "source": [
        "# Функция для удаления выбросов\n",
        "def remove_outliers(data, z_threshold=1.75):    #значение z выбрано путём множества запусков\n",
        "    \"\"\"\n",
        "    Удаляет выбросы на основе Z-оценок.\n",
        "    Параметры:\n",
        "        data (numpy array): стандартизированные данные\n",
        "        z_threshold (float): порог для Z-оценок\n",
        "    Возвращает:\n",
        "        очищенные данные (numpy array)\n",
        "    \"\"\"\n",
        "    z_scores = np.abs(zscore(data))\n",
        "    filtered_data = data[(z_scores < z_threshold).all(axis=1)]\n",
        "    return filtered_data"
      ],
      "metadata": {
        "id": "0q-_csJjilw6"
      },
      "execution_count": null,
      "outputs": []
    },
    {
      "cell_type": "code",
      "source": [
        "# Удаление выбросов\n",
        "X_cleaned = remove_outliers(X_scaled)"
      ],
      "metadata": {
        "id": "zqK_9zk1itRs"
      },
      "execution_count": null,
      "outputs": []
    },
    {
      "cell_type": "code",
      "source": [
        "# Кластеризация и оценка\n",
        "def cluster_and_evaluate(data, n_clusters=6):\n",
        "    kmeans = KMeans(n_clusters=n_clusters, random_state=42, init=\"k-means++\", n_init=\"auto\")\n",
        "    kmeans.fit(data)\n",
        "    inertia = kmeans.inertia_\n",
        "    silhouette = silhouette_score(data, kmeans.labels_)\n",
        "    return inertia, silhouette"
      ],
      "metadata": {
        "id": "TWSlEItDivOP"
      },
      "execution_count": null,
      "outputs": []
    },
    {
      "cell_type": "code",
      "source": [
        "# Результаты до удаления выбросов\n",
        "inertia_before, silhouette_before = cluster_and_evaluate(X_scaled)\n",
        "\n",
        "# Результаты после удаления выбросов\n",
        "inertia_after, silhouette_after = cluster_and_evaluate(X_cleaned)\n",
        "\n",
        "# Вывод результатов\n",
        "print(\"Результаты кластеризации:\")\n",
        "print(f\"До удаления выбросов: Inertia = {inertia_before:.2f}, Silhouette = {silhouette_before:.2f}\")\n",
        "print(f\"После удаления выбросов: Inertia = {inertia_after:.2f}, Silhouette = {silhouette_after:.2f}\")"
      ],
      "metadata": {
        "id": "5ZsxD90uizfb"
      },
      "execution_count": null,
      "outputs": []
    },
    {
      "cell_type": "code",
      "source": [
        "print(f\"Исходное количество точек: {len(X_scaled)}\")\n",
        "print(f\"Количество точек после удаления: {len(X_cleaned)}\")"
      ],
      "metadata": {
        "id": "VQPeJzmUkWrS"
      },
      "execution_count": null,
      "outputs": []
    },
    {
      "cell_type": "code",
      "source": [
        "def visualize_data(data, title=\"Распределение данных\"):\n",
        "    plt.scatter(data[:, 0], data[:, 1], s=50, cmap=\"viridis\")\n",
        "    plt.title(title)\n",
        "    plt.show()"
      ],
      "metadata": {
        "id": "lUJfcl7mmtIj"
      },
      "execution_count": null,
      "outputs": []
    },
    {
      "cell_type": "code",
      "source": [
        "visualize_data(X_scaled, title=\"До удаления выбросов\")\n",
        "visualize_data(X_cleaned, title=\"После удаления выбросов\")"
      ],
      "metadata": {
        "id": "M6NM3EnGkdM1"
      },
      "execution_count": null,
      "outputs": []
    },
    {
      "cell_type": "markdown",
      "source": [
        "Вывод:\n",
        "\n",
        "Удаление выбросов помогло сделать кластеры более компактными и различимыми"
      ],
      "metadata": {
        "id": "WnU4HDCjolq6"
      }
    },
    {
      "cell_type": "markdown",
      "source": [
        "# Оценка кластеризации при значениях k от 2 до 8"
      ],
      "metadata": {
        "id": "4stejPlvor5m"
      }
    },
    {
      "cell_type": "code",
      "source": [
        "# Функция для вычисления и визуализации силуэтных коэффициентов\n",
        "def silhouette_analysis(X, k_range):\n",
        "    silhouette_avg_scores = []\n",
        "\n",
        "    for k in k_range:\n",
        "        # Кластеризация K-Means\n",
        "        kmeans = KMeans(n_clusters=k, random_state=42, init=\"k-means++\", n_init=\"auto\")\n",
        "        labels = kmeans.fit_predict(X)\n",
        "\n",
        "        # Силуэтный коэффициент\n",
        "        silhouette_avg = silhouette_score(X, labels)\n",
        "        silhouette_avg_scores.append(silhouette_avg)\n",
        "\n",
        "        # Визуализация силуэтных коэффициентов для текущего k\n",
        "        sample_silhouette_values = silhouette_samples(X, labels)\n",
        "        fig, ax = plt.subplots(figsize=(10, 6))\n",
        "\n",
        "        y_lower = 10\n",
        "        for i in range(k):\n",
        "            ith_cluster_silhouette_values = sample_silhouette_values[labels == i]\n",
        "            ith_cluster_silhouette_values.sort()\n",
        "            size_cluster_i = ith_cluster_silhouette_values.shape[0]\n",
        "            y_upper = y_lower + size_cluster_i\n",
        "\n",
        "            ax.fill_betweenx(\n",
        "                np.arange(y_lower, y_upper),\n",
        "                0,\n",
        "                ith_cluster_silhouette_values,\n",
        "                alpha=0.7,\n",
        "            )\n",
        "            ax.text(-0.05, y_lower + 0.5 * size_cluster_i, str(i))\n",
        "            y_lower = y_upper + 10  # Отступ для следующего кластера\n",
        "\n",
        "        ax.set_title(f\"Силуэтный анализ для k={k}\", fontsize=14)\n",
        "        ax.set_xlabel(\"Силуэтный коэффициент\")\n",
        "        ax.set_ylabel(\"Индекс кластера\")\n",
        "        ax.axvline(x=silhouette_avg, color=\"red\", linestyle=\"--\")\n",
        "        ax.set_yticks([])\n",
        "        ax.set_xlim([-0.1, 1])\n",
        "        plt.show()\n",
        "        print(\"\\n\")\n",
        "\n",
        "\n",
        "    # Построение графика средней силуэтной оценки\n",
        "    plt.figure(figsize=(8, 5))\n",
        "    plt.plot(k_range, silhouette_avg_scores, marker=\"o\", linestyle=\"--\")\n",
        "    plt.title(\"Средний силуэтный коэффициент для различных k\", fontsize=14)\n",
        "    plt.xlabel(\"Количество кластеров (k)\")\n",
        "    plt.ylabel(\"Средний силуэтный коэффициент\")\n",
        "    plt.grid()\n",
        "    plt.show()"
      ],
      "metadata": {
        "id": "sVqW2jfZk-0p"
      },
      "execution_count": null,
      "outputs": []
    },
    {
      "cell_type": "code",
      "source": [
        "# Выполнение силуэтного анализа\n",
        "k_range = range(2, 9)\n",
        "silhouette_analysis(X_scaled, k_range)"
      ],
      "metadata": {
        "id": "LcVmIv3Pk__8"
      },
      "execution_count": null,
      "outputs": []
    },
    {
      "cell_type": "markdown",
      "source": [
        "Вывод:\n",
        "\n",
        "Значение k=6 показывает наибольший силуэтный коэфициент"
      ],
      "metadata": {
        "id": "4J4L5XcYo1cU"
      }
    },
    {
      "cell_type": "markdown",
      "source": [
        "# Создание нового признака, сравнение с ним и без него"
      ],
      "metadata": {
        "id": "VB5IBQq-o8bs"
      }
    },
    {
      "cell_type": "code",
      "source": [
        "# Создание нового признака\n",
        "df[\"Spending Ratio\"] = df[\"Spending Score (1-100)\"] / df[\"Annual Income (k$)\"]"
      ],
      "metadata": {
        "id": "LitCHC7gmJ0l"
      },
      "execution_count": null,
      "outputs": []
    },
    {
      "cell_type": "code",
      "source": [
        "# Базовая модель (только исходные признаки)\n",
        "X_base = df[features]\n",
        "\n",
        "# Расширенная модель (с новым признаком)\n",
        "X_extended = df[features + [\"Spending Ratio\"]]"
      ],
      "metadata": {
        "id": "KHMJX4-VmLzT"
      },
      "execution_count": null,
      "outputs": []
    },
    {
      "cell_type": "code",
      "source": [
        "# Стандартизация данных\n",
        "scaler = StandardScaler()\n",
        "X_base_scaled = scaler.fit_transform(X_base)\n",
        "X_extended_scaled = scaler.fit_transform(X_extended)"
      ],
      "metadata": {
        "id": "6Y2owes2mNmm"
      },
      "execution_count": null,
      "outputs": []
    },
    {
      "cell_type": "code",
      "source": [
        "# Кластеризация и оценка\n",
        "def cluster_and_evaluate(data, n_clusters=6):\n",
        "    kmeans = KMeans(n_clusters=n_clusters, random_state=42, init=\"k-means++\", n_init=\"auto\")\n",
        "    kmeans.fit(data)\n",
        "    inertia = kmeans.inertia_\n",
        "    silhouette = silhouette_score(data, kmeans.labels_)\n",
        "    return inertia, silhouette"
      ],
      "metadata": {
        "id": "DsiWIECdmPgD"
      },
      "execution_count": null,
      "outputs": []
    },
    {
      "cell_type": "code",
      "source": [
        "# Базовая модель\n",
        "inertia_base, silhouette_base = cluster_and_evaluate(X_base_scaled)\n",
        "\n",
        "# Расширенная модель\n",
        "inertia_extended, silhouette_extended = cluster_and_evaluate(X_extended_scaled)\n",
        "\n",
        "# Вывод результатов\n",
        "print(\"Результаты кластеризации:\")\n",
        "print(f\"Базовая модель: Inertia = {inertia_base:.2f}, Silhouette = {silhouette_base:.2f}\")\n",
        "print(f\"Расширенная модель: Inertia = {inertia_extended:.2f}, Silhouette = {silhouette_extended:.2f}\")"
      ],
      "metadata": {
        "id": "X1eEnuv3mTdk"
      },
      "execution_count": null,
      "outputs": []
    },
    {
      "cell_type": "markdown",
      "source": [
        "Вывод:\n",
        "\n",
        "Добавление нового признака ухудшило результаты, вероятно, из-за высокой корреляции или доминирующего влияния нового признака"
      ],
      "metadata": {
        "id": "MUgrRFEXpTyr"
      }
    }
  ]
}